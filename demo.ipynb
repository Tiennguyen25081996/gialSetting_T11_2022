{
 "cells": [
  {
   "cell_type": "code",
   "execution_count": 62,
   "metadata": {},
   "outputs": [],
   "source": [
    "import time\n",
    "from selenium.webdriver.common.by import By\n",
    "from selenium.webdriver.common.keys import Keys\n",
    "from bs4 import BeautifulSoup\n",
    "from selenium.webdriver.common.by import By\n",
    "import os\n",
    "import threading\n",
    "from pydrive.auth import GoogleAuth\n",
    "from pydrive.drive import GoogleDrive\n",
    "from selenium import webdriver\n",
    "import openpyxl\n",
    "from datetime import datetime\n",
    "import binascii\n",
    "\n",
    "def Login_Minvoice(driver,urlLogin,elUserName,elPassWord,xpathelUserName,xpathelPassWord,xpathbtnLogin):\n",
    "        driver.get(urlLogin)\n",
    "        time.sleep(10)\n",
    "        driver.maximize_window()\n",
    "        time.sleep(1)\n",
    "        username = driver.find_element(By.XPATH,xpathelUserName)\n",
    "        username.click()\n",
    "        time.sleep(2)\n",
    "        username.send_keys(elUserName)\n",
    "        time.sleep(1)\n",
    "        password = driver.find_element(By.XPATH,xpathelPassWord)\n",
    "        password.click()\n",
    "        time.sleep(2)\n",
    "        password.send_keys(elPassWord)\n",
    "        time.sleep(1)\n",
    "        login = driver.find_element(By.XPATH,xpathbtnLogin)\n",
    "        login.click()\n",
    "        time.sleep(10)\n",
    "        "
   ]
  },
  {
   "cell_type": "code",
   "execution_count": 3,
   "metadata": {},
   "outputs": [
    {
     "name": "stderr",
     "output_type": "stream",
     "text": [
      "C:\\Users\\Admin\\AppData\\Local\\Temp\\ipykernel_9948\\1294432683.py:14: DeprecationWarning: executable_path has been deprecated, please pass in a Service object\n",
      "  driver = webdriver.Chrome(\"chromedriver.exe\",options=option)\n"
     ]
    }
   ],
   "source": [
    "#/html/body/div[4]/div[2]/div[7]/div[2]/div/div[4]/div\n",
    "#/html/body/div[4]/div[2]/div[7]/div[2]/div/div[5]/div\n",
    "#/html/body/div[4]/div[2]/div[7]/div[2]/div/div[7]/div/button\n",
    "option = webdriver.ChromeOptions()\n",
    "option.add_argument(\"--disable-blink-features=AutomationControlled\")\n",
    "option.add_argument(\"no-sandbox\")\n",
    "option.add_argument(\"--disable-gpu\")\n",
    "option.add_argument(\"--disable-dev-shm-usage\")\n",
    "option.add_experimental_option(\"useAutomationExtension\", False)\n",
    "option.add_experimental_option(\"excludeSwitches\", [\"enable-automation\"])\n",
    "option.add_experimental_option('prefs', {\n",
    "\"plugins.always_open_pdf_externally\": True\n",
    "})\n",
    "driver = webdriver.Chrome(\"chromedriver.exe\",options=option)\n",
    "Login_Minvoice(driver,'https://van.ehoadon.vn/','0801349113','88575957','//*[@id=\"txtUserName\"]','//*[@id=\"txtPassword\"]','//*[@id=\"btnLogin\"]')"
   ]
  },
  {
   "cell_type": "code",
   "execution_count": 176,
   "metadata": {},
   "outputs": [
    {
     "data": {
      "text/plain": [
       "True"
      ]
     },
     "execution_count": 176,
     "metadata": {},
     "output_type": "execute_result"
    }
   ],
   "source": [
    "from datetime import date\n",
    "def check_time_in_range(current,start_d,end_d):\n",
    "  \n",
    "    text_split_r = current.split('/')\n",
    "    day_c_r = int(text_split_r[0])\n",
    "    month_c_r = int(text_split_r[1])\n",
    "    year_c_r = int(text_split_r[2])\n",
    "    \n",
    "    text_split = start_d.split('/')\n",
    "    day_c = int(text_split[0])\n",
    "    month_c = int(text_split[1])\n",
    "    year_c = int(text_split[2])\n",
    "    \n",
    "    text_split_e = end_d.split('/')\n",
    "    day_c_e = int(text_split_e[0])\n",
    "    month_c_e = int(text_split_e[1])\n",
    "    year_c_e = int(text_split_e[2])\n",
    "    \n",
    "    return date(year_c, month_c, day_c) < date(year_c_r, month_c_r, day_c_r) < date(year_c_e, month_c_e, day_c_e)\n",
    "\n",
    "\n",
    "check_time_in_range('08/08/2022','01/07/2022','09/08/2022')"
   ]
  },
  {
   "cell_type": "code",
   "execution_count": 141,
   "metadata": {},
   "outputs": [],
   "source": [
    "#C:\\Users\\Admin\\Desktop\\AutoEmail\\Output\\08092022\n",
    "import os\n",
    "import zipfile\n",
    "def get_all_name_file(path):\n",
    "        arr = os.listdir(path)\n",
    "        if (len(arr) > 0):\n",
    "            return arr[0]\n",
    "        else:\n",
    "            return 0\n",
    "\n",
    "def UnZipFile(url, newUrl):\n",
    "    fantasy_zip = zipfile.ZipFile(url)\n",
    "    fantasy_zip.extractall(newUrl)\n",
    "    fantasy_zip.close()\n",
    "UnZipFile('./Output/08092022/220808.105119.zip','./Output/08092022/Old_files/')"
   ]
  },
  {
   "cell_type": "code",
   "execution_count": 184,
   "metadata": {},
   "outputs": [
    {
     "data": {
      "text/plain": [
       "'./Output/08092022/220808.105119.zip'"
      ]
     },
     "execution_count": 184,
     "metadata": {},
     "output_type": "execute_result"
    }
   ],
   "source": [
    "''.join(['./Output/08092022/','220808.105119.zip'])"
   ]
  },
  {
   "cell_type": "code",
   "execution_count": 180,
   "metadata": {},
   "outputs": [
    {
     "name": "stdout",
     "output_type": "stream",
     "text": [
      "2\n",
      "24\n",
      "['Chưa có', '00000023', '00000022', '00000021', '00000020', '00000019', '00000018', '00000017', '00000016']\n"
     ]
    }
   ],
   "source": [
    "import regex as re\n",
    "arr_hd_pass = []\n",
    "sup_page_size = BeautifulSoup(driver.page_source,features=\"html.parser\").find_all('div',{'class':'gg-table-info'})\n",
    "print(len(sup_page_size))\n",
    "count_item = sup_page_size[0].text.split(' ')[2].split('.')[0]\n",
    "print(int(count_item))\n",
    "for item in range(1,int(count_item) + 1):\n",
    "    xpath_date = ''.join(['//*[@id=\"gg-table-1\"]/tbody/tr[',str(item),']/td[3]/div'])\n",
    "    date_t = driver.find_element(By.XPATH,xpath_date).text.split('\\n')[1]\n",
    "    check_pass = check_time_in_range(\"\"+date_t+\"\",'01/07/2022','09/08/2022')\n",
    "    if (check_pass == True):\n",
    "        text_name_file = driver.find_element(By.XPATH,xpath_date).text.split('\\n')[0]\n",
    "        check = re.search('Chưa có',text_name_file)\n",
    "        if(check):\n",
    "            arr_hd_pass.append(text_name_file.split('[')[1].split(']')[0])\n",
    "        else:\n",
    "            arr_hd_pass.append(text_name_file)\n",
    "print(arr_hd_pass)"
   ]
  },
  {
   "cell_type": "code",
   "execution_count": 186,
   "metadata": {},
   "outputs": [],
   "source": [
    "os.rmdir('./Output/08092022/Old_files/')"
   ]
  },
  {
   "cell_type": "code",
   "execution_count": 189,
   "metadata": {},
   "outputs": [
    {
     "name": "stdout",
     "output_type": "stream",
     "text": [
      "name_file 220809.100040.zip\n",
      "path_from ./Output/08092022/EHoaDon_Copany/220809.100040.zip\n",
      "UnZipFile success\n",
      "removeFile zip\n"
     ]
    }
   ],
   "source": [
    "path_down_load = ''.join(['./Output/','08092022','/EHoaDon_Copany/'])\n",
    "name_file = '220809.100040.zip'\n",
    "print(\"name_file\",name_file)\n",
    "path_to= ''.join([path_down_load,'Old_File/'])\n",
    "if (name_file is not None):\n",
    "    try:\n",
    "        path_from = ''.join([path_down_load,name_file])\n",
    "        print(\"path_from\",path_from)\n",
    "        UnZipFile(path_from,path_to)\n",
    "        print(\"UnZipFile success\")\n",
    "        time.sleep(3)\n",
    "        os.remove(path_from)\n",
    "        print(\"removeFile zip\")\n",
    "        time.sleep(2)\n",
    "    except Exception as e:\n",
    "        pass\n",
    "else:\n",
    "    time.sleep(20)"
   ]
  },
  {
   "cell_type": "code",
   "execution_count": 196,
   "metadata": {},
   "outputs": [],
   "source": [
    "def delete_all_file_folder(path):\n",
    "        arr = os.listdir(path)\n",
    "        if (len(arr) > 0):\n",
    "            for item in arr:\n",
    "                path_c = ''.join([path,item])\n",
    "                os.remove(path_c)\n",
    "\n",
    "delete_all_file_folder('./Output/08092022/EHoaDon_Copany/Old_File/')\n",
    "os.rmdir('./Output/08092022/EHoaDon_Copany/Old_File/')"
   ]
  },
  {
   "cell_type": "code",
   "execution_count": 98,
   "metadata": {},
   "outputs": [
    {
     "name": "stdout",
     "output_type": "stream",
     "text": [
      "6\n"
     ]
    }
   ],
   "source": [
    "current = driver.switch_to.default_content()\n",
    "btn_ngay_hd = driver.find_element(By.XPATH,'//*[@id=\"body_divMore\"]/button')\n",
    "btn_ngay_hd.click()\n",
    "time.sleep(3)\n",
    "btn_print_pdf = driver.find_element(By.CSS_SELECTOR,'#body_printConvertion')\n",
    "btn_print_pdf.click()\n",
    "time.sleep(5)\n",
    "#check trong ngay\n",
    "driver.switch_to.frame(current)\n",
    "driver.switch_to.frame(1)\n",
    "find_date = driver.find_element(By.XPATH,'//*[@id=\"gg-table-2\"]/tbody/tr[1]/td[3]/div/table/tbody/tr[2]/td[4]')\n",
    "find_date.click()\n",
    "length_split = len(find_date.text.split(' '))\n",
    "start_date_search = find_date.text.split(' ')[length_split - 3]\n",
    "end_date_search = find_date.text.split(' ')[length_split - 1]\n",
    "today_date = datetime.now()\n",
    "new_today_date = str(today_date.strftime(\"%d/%m/%Y\"))\n",
    "check = check_time_in_range(new_today_date,start_date_search,end_date_search)\n",
    "if (check == True):\n",
    "    btn_download_search = driver.find_element(By.CSS_SELECTOR,'#gg-table-2 > tbody > tr:nth-child(1) > td:nth-child(4) > div > a > div')\n",
    "    btn_download_search.click()\n",
    "else:\n",
    "    btn_tao_lan_tai = driver.find_element(By.XPATH,'//*[@id=\"btnInvoiceConvertionNew\"]')\n",
    "    btn_tao_lan_tai.click()\n",
    "    time.sleep(2)\n",
    "    btn_radio = driver.find_element(By.CSS_SELECTOR,'#rblMethod_1')\n",
    "    btn_radio.click()\n",
    "    time.sleep(1)\n",
    "    btn_download = driver.find_element(By.CSS_SELECTOR,'#btnConvertion')\n",
    "    btn_download.click()\n",
    "driver.switch_to.frame(current)"
   ]
  },
  {
   "cell_type": "code",
   "execution_count": 95,
   "metadata": {},
   "outputs": [],
   "source": [
    "driver.switch_to.frame(current)\n",
    "driver.switch_to.frame(1)\n",
    "btn_download_search = driver.find_element(By.XPATH,'//*[@id=\"gg-table-2\"]/tbody/tr[1]/td[4]/div/a/div')\n",
    "btn_download_search.click()"
   ]
  },
  {
   "cell_type": "code",
   "execution_count": 9,
   "metadata": {},
   "outputs": [
    {
     "data": {
      "text/plain": [
       "'00000023\\n02/08/2022'"
      ]
     },
     "execution_count": 9,
     "metadata": {},
     "output_type": "execute_result"
    }
   ],
   "source": [
    "btn_view_HD = driver.find_element(By.XPATH,'//*[@id=\"gg-table-1\"]/tbody/tr[2]/td[12]/div/a[1]')\n",
    "driver.find_element(By.XPATH,'//*[@id=\"gg-table-1\"]/tbody/tr[2]/td[3]/div').text"
   ]
  },
  {
   "cell_type": "code",
   "execution_count": null,
   "metadata": {},
   "outputs": [],
   "source": [
    "current_driver = driver.current_window_handle\n",
    "btn_print = driver.find_element(By.XPATH,'/html/body/div[8]/div[2]/div[2]/div/div/div[1]/div[2]/div[6]/div/button/span')\n",
    "btn_print.click()\n",
    "time.sleep(3)\n",
    "new_driver = driver.window_handles[1]\n",
    "driver.switch_to.window(new_driver)\n",
    "time.sleep(2)\n",
    "driver.close()\n",
    "driver.switch_to.window(current_driver)"
   ]
  },
  {
   "cell_type": "code",
   "execution_count": null,
   "metadata": {},
   "outputs": [],
   "source": [
    "#//*[@id=\"datatable1659542560906\"]/div[2]/div[2]/div/div[1]/div/a\n",
    "sup = BeautifulSoup(driver.page_source,features=\"html.parser\").find_all('div',{'class':'webix_view webix_dtable mcls_invoiceDashboard','view_id':'tblDasInvoice'})\n",
    "table_id = sup[0].get('id')\n",
    "print(table_id)\n",
    "\n",
    "driver.find_element(By.XPATH,'//*[@id=\"datatable1659620255542\"]/div[2]/div[2]/div/div[1]/div/a').click()"
   ]
  },
  {
   "cell_type": "code",
   "execution_count": 45,
   "metadata": {},
   "outputs": [
    {
     "name": "stdout",
     "output_type": "stream",
     "text": [
      "5\n",
      "1C22TTB\n",
      "1C21TTB\n"
     ]
    }
   ],
   "source": [
    "#$suggest1_list\n",
    "import regex as reg\n",
    "sup_ky_hieu_box = BeautifulSoup(driver.page_source,features=\"html.parser\").find_all('div',{'view_id':'kyhieu_id'})\n",
    "box_ky_hieu_id = sup_ky_hieu_box[0].find_all('input')[0].get('id')\n",
    "btn_drop_box_ky_hieu = driver.find_element(By.XPATH,'//*[@id=\"'+box_ky_hieu_id+'\"]').click()\n",
    "\n",
    "sup = BeautifulSoup(driver.page_source,features=\"html.parser\").find_all('div',{'class':'webix_view webix_list','role':'listbox'})\n",
    "\n",
    "print(len(sup))\n",
    "\n",
    "for item in sup:\n",
    "    list_div_ky_hieu = item.find_all('div',{'class':'webix_list_item'})\n",
    "    for i in list_div_ky_hieu:\n",
    "        if reg.search('TTB', str(i.text).upper()):\n",
    "            print(i.text)\n",
    "    #/html/body/div[14]/div/div[2]/div/div/div[1]  body > div:nth-child(15) > div > div.webix_win_body > div > div > div.webix_list_item.webix_selected\n"
   ]
  },
  {
   "cell_type": "code",
   "execution_count": 51,
   "metadata": {},
   "outputs": [],
   "source": [
    "import datetime\n",
    "class DatetimeRange:\n",
    "    def __init__(self, dt1, dt2):\n",
    "        self._dt1 = dt1\n",
    "        self._dt2 = dt2\n",
    "\n",
    "    def __contains__(self, dt):\n",
    "        return self._dt1 < dt < self._dt2\n",
    "\n",
    "def get_date_time_HD(str_date):\n",
    "    text_split = str_date.split('/')\n",
    "    day_c = int(text_split[0])\n",
    "    month_c = int(text_split[1])\n",
    "    year_c = int(text_split[2])\n",
    "    return datetime.date(year=year_c, month=month_c, day=day_c)\n",
    "    \n",
    "def check_time_in_range(current_date,start,end):\n",
    "    current = get_date_time_HD(current_date)\n",
    "    start_d = get_date_time_HD(start)\n",
    "    end_d = get_date_time_HD(end)\n",
    "    check = DatetimeRange(start_d, end_d)\n",
    "    return check.__contains__(current)"
   ]
  },
  {
   "cell_type": "code",
   "execution_count": null,
   "metadata": {},
   "outputs": [],
   "source": [
    "def get_count_all_item():\n",
    "    sup_page_size = BeautifulSoup(driver.page_source,features=\"html.parser\").find_all('div',{'view_id':'pagerA','class':'webix_view webix_pager'})\n",
    "    count_item = sup_page_size[0].text.split(' ')[2].split('.')[0]\n",
    "    return int(count_item)\n",
    "\n",
    "start_date = '01/06/2022'\n",
    "end_date = '01/08/2022'\n",
    "sup_data_table = BeautifulSoup(driver.page_source,features=\"html.parser\").find_all('div',{'view_id':'invoiceViews'})\n",
    "data_table_id = sup_data_table[0].get('id')\n",
    "xpath = ''.join(['//*[@id=\"',data_table_id,'\"]/div[1]/div[2]/table/tbody/tr[3]/td[6]/div/input'])\n",
    "count_all_item = get_count_all_item() + 1\n",
    "for hd in range(1,count_all_item):\n",
    "    btn_search = driver.find_element(By.XPATH,xpath)\n",
    "    btn_search.clear()\n",
    "    time.sleep(8)\n",
    "    btn_search.send_keys(hd)\n",
    "    time.sleep(5)\n",
    "    last_row = get_count_all_item()\n",
    "    print('last_row : ',last_row)\n",
    "    xpath_last_row_search_ma_so_thue = ''.join(['//*[@id=\"',data_table_id,'\"]/div[2]/div[2]/div/div[8]/div[',str(last_row),']'])\n",
    "    xpath_last_row_search_id = ''.join(['//*[@id=\"',data_table_id,'\"]/div[2]/div[2]/div/div[7]/div[',str(last_row),']'])\n",
    "    xpath_last_row_search_ky_hieu = ''.join(['//*[@id=\"',data_table_id,'\"]/div[2]/div[2]/div/div[6]/div[',str(last_row),']'])\n",
    "    xpath_last_row_search_ngay_hoa_don = ''.join(['//*[@id=\"',data_table_id,'\"]/div[2]/div[2]/div/div[5]/div[',str(last_row),']'])\n",
    "    xpath_last_row_search_trang_thai = ''.join(['//*[@id=\"',data_table_id,'\"]/div[2]/div[2]/div/div[3]/div[',str(last_row),']'])\n",
    "    driver.find_element(By.XPATH,xpath_last_row_search_id).click()\n",
    "    # print('xpath_last_row_search_ma_so_thue : ',driver.find_element(By.XPATH,xpath_last_row_search_ma_so_thue).text)\n",
    "    # print('xpath_last_row_search_id : ',driver.find_element(By.XPATH,xpath_last_row_search_id).text)\n",
    "    # print('xpath_last_row_search_ky_hieu : ',driver.find_element(By.XPATH,xpath_last_row_search_ky_hieu).text)\n",
    "    # print('xpath_last_row_search_ngay_hoa_don : ',driver.find_element(By.XPATH,xpath_last_row_search_ngay_hoa_don).text)\n",
    "    # print('xpath_last_row_search_trang_thai : ',driver.find_element(By.XPATH,xpath_last_row_search_trang_thai).text)\n",
    "    print(check_time_in_range(driver.find_element(By.XPATH,xpath_last_row_search_ngay_hoa_don).text,start_date,end_date))\n",
    "    \n",
    "    # time.sleep(1)\n",
    "    # current_driver = driver.current_window_handle\n",
    "    # btn_print = driver.find_element(By.XPATH,'/html/body/div[8]/div[2]/div[2]/div/div/div[1]/div[2]/div[6]/div/button/span')\n",
    "    # btn_print.click()\n",
    "    # time.sleep(3)\n",
    "    # new_driver = driver.window_handles[1]\n",
    "    # driver.switch_to.window(new_driver)\n",
    "    # time.sleep(2)\n",
    "    # driver.close()\n",
    "    # driver.switch_to.window(current_driver)\n",
    "    # time.sleep(1)\n",
    "    "
   ]
  },
  {
   "cell_type": "code",
   "execution_count": 7,
   "metadata": {},
   "outputs": [],
   "source": [
    "def click_xem_hd():\n",
    "    current_driver = driver.current_window_handle\n",
    "    btn_print = driver.find_element(By.XPATH,'/html/body/div[8]/div[2]/div[2]/div/div/div[1]/div[2]/div[6]/div/button/span')\n",
    "    btn_print.click()\n",
    "    time.sleep(3)\n",
    "    new_driver = driver.window_handles[1]\n",
    "    driver.switch_to.window(new_driver)\n",
    "    time.sleep(2)\n",
    "    driver.close()\n",
    "    driver.switch_to.window(current_driver)"
   ]
  },
  {
   "cell_type": "code",
   "execution_count": null,
   "metadata": {},
   "outputs": [],
   "source": [
    "sup_data_table = BeautifulSoup(driver.page_source,features=\"html.parser\").find_all('div',{'view_id':'invoiceViews'})\n",
    "data_table_id = sup_data_table[0].get('id')\n",
    "def check_exsits(xpath_c):\n",
    "    check = 0\n",
    "    try:\n",
    "        el = driver.find_element(By.XPATH,xpath_c)\n",
    "        check = 1\n",
    "    except Exception as e:\n",
    "        pass\n",
    "    return check\n",
    "check_last_row = 0\n",
    "index = 0\n",
    "total_row = 18\n",
    "for item in range(1,total_row):\n",
    "    if (check_last_row == 0):\n",
    "        xpath = ''.join(['//*[@id=\"',data_table_id,'\"]/div[2]/div[2]/div/div[7]/div[',str(item),']'])\n",
    "        check_exists = check_exsits(xpath)\n",
    "        xpath_btn_previous = ''.join(['//*[@id=\"',data_table_id,'\"]/div[2]/div[2]/div/div[7]/div[',str(item - 1),']'])\n",
    "        if (check_exists == 1):\n",
    "            btn_current = driver.find_element(By.XPATH,xpath)\n",
    "            x = btn_current.text\n",
    "            btn_current.click()\n",
    "            print('click 1 : ',driver.find_element(By.XPATH,xpath).text)\n",
    "        else:\n",
    "            btn_previous = driver.find_element(By.XPATH,xpath_btn_previous)\n",
    "            p = btn_previous.text\n",
    "            btn_previous.click()\n",
    "            print('click chuyen giao : ',p)\n",
    "            time.sleep(1)\n",
    "            btn_previous.send_keys(Keys.DOWN)\n",
    "            check_last_row = 1\n",
    "            index = item - 1\n",
    "            if (item % 2 == 1):\n",
    "                time.sleep(1)\n",
    "                xpath_pre = ''.join(['//*[@id=\"',data_table_id,'\"]/div[2]/div[2]/div/div[7]/div[',str(index - 1),']'])\n",
    "                check_exists = check_exsits(xpath_pre)\n",
    "                if (check_exists == 1):\n",
    "                    time.sleep(1)\n",
    "                    btn_pre = driver.find_element(By.XPATH,xpath_pre)\n",
    "                    print('click chuyen giao le: ',btn_pre.text)\n",
    "                    btn_pre.click()\n",
    "        time.sleep(0.5)\n",
    "    else:\n",
    "        xpath = ''.join(['//*[@id=\"',data_table_id,'\"]/div[2]/div[2]/div/div[7]/div[',str(index),']'])\n",
    "        xpath_pre = ''.join(['//*[@id=\"',data_table_id,'\"]/div[2]/div[2]/div/div[7]/div[',str(index - 1),']'])\n",
    "        if(item == total_row - 1):\n",
    "            time.sleep(1)\n",
    "            check_exists = check_exsits(xpath)\n",
    "            if (check_exists == 1):\n",
    "                driver.find_element(By.XPATH,xpath).click()\n",
    "                print('click end : ',driver.find_element(By.XPATH,xpath).text)\n",
    "                time.sleep(1)\n",
    "        else:        \n",
    "            if (item % 2 == 1):\n",
    "                time.sleep(1)\n",
    "                check_exists = check_exsits(xpath)\n",
    "                if (check_exists == 1):\n",
    "                    time.sleep(1)\n",
    "                    btn_pre = driver.find_element(By.XPATH,xpath_pre)\n",
    "                    print('click le : ',btn_pre.text)\n",
    "                    btn_pre.click()\n",
    "            elif (item % 2 == 0):\n",
    "                time.sleep(1)\n",
    "                check_exists = check_exsits(xpath)\n",
    "                if (check_exists == 1):\n",
    "                    time.sleep(1)\n",
    "                    btn_pre = driver.find_element(By.XPATH,xpath)\n",
    "                    print('click chan : ',btn_pre.text)\n",
    "                    btn_pre.click()\n",
    "                    time.sleep(1)\n",
    "                    driver.find_element(By.XPATH,xpath).send_keys(Keys.DOWN)\n"
   ]
  },
  {
   "cell_type": "code",
   "execution_count": null,
   "metadata": {},
   "outputs": [],
   "source": [
    "sup_data_table = BeautifulSoup(driver.page_source,features=\"html.parser\").find_all('div',{'view_id':'invoiceViews'})\n",
    "data_table_id = sup_data_table[0].get('id')\n",
    "def check_exsits(xpath_c):\n",
    "    check = 0\n",
    "    try:\n",
    "        el = driver.find_element(By.XPATH,xpath_c)\n",
    "        check = 1\n",
    "    except Exception as e:\n",
    "        pass\n",
    "    return check\n",
    "check_last_row = 0\n",
    "index = 0\n",
    "for item in range(1,17):\n",
    "    if (check_last_row == 0):\n",
    "        xpath = ''.join(['//*[@id=\"',data_table_id,'\"]/div[2]/div[2]/div/div[7]/div[',str(item),']'])\n",
    "        check_exists = check_exsits(xpath)\n",
    "        xpath_btn_previous = ''.join(['//*[@id=\"',data_table_id,'\"]/div[2]/div[2]/div/div[7]/div[',str(item - 1),']'])\n",
    "        if (check_exists == 1):\n",
    "            btn_current = driver.find_element(By.XPATH,xpath)\n",
    "            x = btn_current.text\n",
    "            btn_current.click()\n",
    "            print('click 1 : ',driver.find_element(By.XPATH,xpath).text)\n",
    "        else:\n",
    "            btn_previous = driver.find_element(By.XPATH,xpath_btn_previous)\n",
    "            p = btn_previous.text\n",
    "            btn_previous.click()\n",
    "            time.sleep(1)\n",
    "            btn_previous.send_keys(Keys.DOWN)\n",
    "            check_last_row = 1\n",
    "            index = item - 1\n",
    "        time.sleep(0.5)\n",
    "    else:\n",
    "        xpath = ''.join(['//*[@id=\"',data_table_id,'\"]/div[2]/div[2]/div/div[7]/div[',str(index),']'])\n",
    "        xpath_pre = ''.join(['//*[@id=\"',data_table_id,'\"]/div[2]/div[2]/div/div[7]/div[',str(index - 1),']'])\n",
    "        if (index % 2 == 1): \n",
    "            if(item == 16):\n",
    "                time.sleep(1)\n",
    "                check_exists = check_exsits(xpath)\n",
    "                if (check_exists == 1):\n",
    "                    time.sleep(1)\n",
    "                    driver.find_element(By.XPATH,xpath).click()\n",
    "                    print('click 2 : ',driver.find_element(By.XPATH,xpath).text)\n",
    "                    time.sleep(1)\n",
    "                    driver.find_element(By.XPATH,xpath).send_keys(Keys.DOWN)\n",
    "                    time.sleep(1)      \n",
    "            if (item % 2 == 1):\n",
    "                time.sleep(1)\n",
    "                check_exists = check_exsits(xpath)\n",
    "                if (check_exists == 1):\n",
    "                    if(item != 17):\n",
    "                        time.sleep(1)\n",
    "                        btn_pre = driver.find_element(By.XPATH,xpath_pre)\n",
    "                        print('click 3: ',btn_pre.text)\n",
    "                        btn_pre.click()\n",
    "                    time.sleep(1)\n",
    "                    driver.find_element(By.XPATH,xpath).click()\n",
    "                    print('click 4: ',driver.find_element(By.XPATH,xpath).text)\n",
    "                    time.sleep(1)\n",
    "                    driver.find_element(By.XPATH,xpath).send_keys(Keys.DOWN)\n",
    "                    time.sleep(1)\n",
    "        else:\n",
    "            if (item % 2 == 0):\n",
    "                time.sleep(1)\n",
    "                check_exists = check_exsits(xpath)\n",
    "                if (check_exists == 1):\n",
    "                    if(item != 17):\n",
    "                        time.sleep(1)\n",
    "                        btn_pre = driver.find_element(By.XPATH,xpath_pre)\n",
    "                        print('click 5: ',btn_pre.text)\n",
    "                        btn_pre.click()\n",
    "                    time.sleep(1)\n",
    "                    driver.find_element(By.XPATH,xpath).click()\n",
    "                    print('click 6: ',driver.find_element(By.XPATH,xpath).text)\n",
    "                    time.sleep(1)\n",
    "                    driver.find_element(By.XPATH,xpath).send_keys(Keys.DOWN)\n",
    "                    time.sleep(1)\n"
   ]
  },
  {
   "cell_type": "code",
   "execution_count": 106,
   "metadata": {},
   "outputs": [
    {
     "name": "stdout",
     "output_type": "stream",
     "text": [
      "False\n"
     ]
    }
   ],
   "source": [
    "import datetime\n",
    "current = datetime.date(year=2022, month=8, day=4)\n",
    "current\n",
    "start = datetime.date(year=2022, month=8, day=1)\n",
    "end = datetime.date(year=2022, month=8, day=3)\n",
    "class DatetimeRange:\n",
    "    def __init__(self, dt1, dt2):\n",
    "        self._dt1 = dt1\n",
    "        self._dt2 = dt2\n",
    "\n",
    "    def __contains__(self, dt):\n",
    "        return self._dt1 < dt < self._dt2\n",
    "test_true = DatetimeRange(start, end)\n",
    "print(test_true.__contains__(current))\n"
   ]
  },
  {
   "cell_type": "code",
   "execution_count": 108,
   "metadata": {},
   "outputs": [
    {
     "name": "stdout",
     "output_type": "stream",
     "text": [
      "19 4 2022\n"
     ]
    }
   ],
   "source": [
    "x = '19/04/2022'.split('/')\n",
    "day_c = int(x[0])\n",
    "month_c = int(x[1])\n",
    "year_c = int(x[2])\n",
    "print(day_c,month_c,year_c)"
   ]
  }
 ],
 "metadata": {
  "kernelspec": {
   "display_name": "Python 3.10.5 64-bit",
   "language": "python",
   "name": "python3"
  },
  "language_info": {
   "codemirror_mode": {
    "name": "ipython",
    "version": 3
   },
   "file_extension": ".py",
   "mimetype": "text/x-python",
   "name": "python",
   "nbconvert_exporter": "python",
   "pygments_lexer": "ipython3",
   "version": "3.10.5"
  },
  "orig_nbformat": 4,
  "vscode": {
   "interpreter": {
    "hash": "a42ccb73e7d9bfdf27e036f1d2b8b681e55fc0743cc5586bc2474d4a60f4b886"
   }
  }
 },
 "nbformat": 4,
 "nbformat_minor": 2
}
